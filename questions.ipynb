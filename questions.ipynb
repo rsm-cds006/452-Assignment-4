{
 "cells": [
  {
   "cell_type": "code",
   "execution_count": null,
   "metadata": {},
   "outputs": [],
   "source": [
    "import pandas as pd\n",
    "import numpy as np\n",
    "from sklearn.model_selection import train_test_split\n",
    "from sklearn.linear_model import LinearRegression\n",
    "from sklearn.metrics import mean_squared_error\n",
    "from sklearn.preprocessing import OneHotEncoder, MinMaxScaler, LabelEncoder, KBinsDiscretizer, StandardScaler\n",
    "from sklearn.compose import ColumnTransformer\n",
    "from sklearn.pipeline import Pipeline\n",
    "from sklearn.base import BaseEstimator, TransformerMixin\n",
    "\n",
    "\n",
    "df_train = pd.read_csv('ecommerce_data_train.csv')\n",
    "df_test = pd.read_csv('ecommerce_data_val.csv')\n"
   ]
  },
  {
   "cell_type": "code",
   "execution_count": null,
   "metadata": {},
   "outputs": [],
   "source": [
    "# Splitting the data into features and target variable\n",
    "X_train = df_train.drop('Monthly Revenue', axis = 1)\n",
    "y_train = df_train['Monthly Revenue']\n",
    "\n",
    "X_test = df_test.drop('Monthly Revenue', axis = 1)\n",
    "y_test = df_test['Monthly Revenue']\n"
   ]
  },
  {
   "cell_type": "code",
   "execution_count": null,
   "metadata": {},
   "outputs": [],
   "source": [
    "# Question 1\n",
    "#\n",
    "# Train a model using all features except for season - use all features linearly\n",
    "#\n",
    "Xq1_train = X_train.copy()\n",
    "Xq1_test = X_test.copy()\n",
    "\n",
    "Xq1_train = Xq1_train.drop('Season', axis = 1)   # this drops Season from the feature array\n",
    "Xq1_test = Xq1_test.drop('Season', axis = 1)\n",
    "\n",
    "# Now train with (y_train,Xq1_train)\n",
    "# YOUR CODE HERE...\n",
    "# \n"
   ]
  },
  {
   "cell_type": "code",
   "execution_count": null,
   "metadata": {},
   "outputs": [],
   "source": [
    "# Question 2\n",
    "#\n",
    "# Now add season to the model as a onehot coded feature - do you do better on test data?\n",
    "#\n",
    "#\n",
    "Xq2_train = X_train.copy()\n",
    "Xq2_test = X_test.copy()\n",
    "\n",
    "one_hot_encoder = ColumnTransformer(transformers=[('encoder', OneHotEncoder(drop='first'), ['Season'])],\n",
    "                                     remainder='passthrough')\n",
    "Xq2_train_encoded = one_hot_encoder.fit_transform(Xq2_train)\n",
    "Xq2_test_encoded = one_hot_encoder.transform(Xq2_test)\n",
    "\n",
    "# YOUR CODE HERE...\n",
    "# \n",
    "\n"
   ]
  },
  {
   "cell_type": "code",
   "execution_count": null,
   "metadata": {},
   "outputs": [],
   "source": [
    "# Question 3: Two models with 'Number of Website Visits' as numerical and categorical\n",
    "\n",
    "# Numerical model\n",
    "#\n",
    "# this is just the same as in question 1\n",
    "\n",
    "# Categorical model (using KBinsDiscretizer for binning)\n",
    "Xq3_train = Xq1_train.copy()\n",
    "Xq3_test = Xq1_test.copy()\n",
    "\n",
    "\n",
    "# Pipeline for discretizing and then one-hot encoding\n",
    "pipe = Pipeline([\n",
    "    ('kbins', KBinsDiscretizer(n_bins=5, encode='ordinal', strategy='uniform', subsample=None)),\n",
    "    ('onehot', OneHotEncoder(drop='first'))\n",
    "])\n",
    "\n",
    "# ColumnTransformer\n",
    "transformer = ColumnTransformer(\n",
    "    transformers=[\n",
    "        ('discretize_and_encode', pipe, ['Number of Website Visits'])\n",
    "    ],\n",
    "    remainder='passthrough'\n",
    ")\n",
    "\n",
    "Xq3_train_encoded = transformer.fit_transform(Xq3_train)\n",
    "Xq3_test_encoded = transformer.transform(Xq3_test)\n",
    "\n",
    "\n",
    "# YOUR CODE HERE...\n",
    "# \n"
   ]
  },
  {
   "cell_type": "code",
   "execution_count": null,
   "metadata": {},
   "outputs": [],
   "source": [
    "# Question 4: Try to discretize Average Order Value\n",
    "\n",
    "\n",
    "# Categorical model (using KBinsDiscretizer for binning)\n",
    "Xq4_train = Xq1_train.copy()\n",
    "Xq4_test = Xq1_test.copy()\n",
    "\n",
    "\n",
    "# Pipeline for discretizing and then one-hot encoding\n",
    "pipe = Pipeline([\n",
    "    ('kbins', KBinsDiscretizer(n_bins=5, encode='ordinal', strategy='uniform', subsample=None)),\n",
    "    ('onehot', OneHotEncoder(drop='first'))\n",
    "])\n",
    "\n",
    "# ColumnTransformer\n",
    "transformer = ColumnTransformer(\n",
    "    transformers=[\n",
    "        ('discretize_and_encode', pipe, ['Average Order Value'])\n",
    "    ],\n",
    "    remainder='passthrough'\n",
    ")\n",
    "\n",
    "Xq4_train_encoded = transformer.fit_transform(Xq4_train)\n",
    "Xq4_test_encoded = transformer.transform(Xq4_test)\n",
    "\n",
    "# YOUR CODE HERE...\n",
    "# \n"
   ]
  },
  {
   "cell_type": "code",
   "execution_count": null,
   "metadata": {},
   "outputs": [],
   "source": [
    "# Question 5\n",
    "\n",
    "Xq5_train = Xq1_train.copy()\n",
    "Xq5_test = Xq1_test.copy()\n",
    "\n",
    "# create interaction\n",
    "Xq5_train['ItemsSold_AvgOrder'] = Xq5_train['Average Order Value']*Xq5_train['Number of Items Sold']\n",
    "Xq5_test['ItemsSold_AvgOrder'] = Xq5_test['Average Order Value']*Xq5_test['Number of Items Sold']\n",
    "\n",
    "\n",
    "# YOUR CODE HERE...\n",
    "# "
   ]
  }
 ],
 "metadata": {
  "kernelspec": {
   "display_name": "base",
   "language": "python",
   "name": "python3"
  },
  "language_info": {
   "codemirror_mode": {
    "name": "ipython",
    "version": 3
   },
   "file_extension": ".py",
   "mimetype": "text/x-python",
   "name": "python",
   "nbconvert_exporter": "python",
   "pygments_lexer": "ipython3",
   "version": "3.11.5"
  }
 },
 "nbformat": 4,
 "nbformat_minor": 2
}
